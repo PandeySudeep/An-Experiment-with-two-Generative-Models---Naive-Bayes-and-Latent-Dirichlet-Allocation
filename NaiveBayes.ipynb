{
 "cells": [
  {
   "cell_type": "code",
   "execution_count": 1,
   "metadata": {},
   "outputs": [],
   "source": [
    "import os\n",
    "import re\n",
    "import string\n",
    "import math"
   ]
  },
  {
   "cell_type": "code",
   "execution_count": 2,
   "metadata": {},
   "outputs": [],
   "source": [
    "DATA_DIR = 'Desktop/project/collection'\n",
    "TEST_DATA_DIR = 'Desktop/project/testSet'\n",
    "target_names = ['soccer','futbol','cricket','basketball']"
   ]
  },
  {
   "cell_type": "code",
   "execution_count": 3,
   "metadata": {},
   "outputs": [],
   "source": [
    "def get_data(DATA_DIR):\n",
    "    subfolders = ['soccer','futbol','cricket','basketball']\n",
    "\n",
    "    data = []\n",
    "    target = []\n",
    "    \n",
    "    #soccer\n",
    "    soccer_files = os.listdir(os.path.join(DATA_DIR,'soccer'))\n",
    "    for soccer_file in soccer_files:\n",
    "        with open(os.path.join(DATA_DIR,'soccer',soccer_file), encoding=\"latin-1\") as f:\n",
    "            data.append(f.read())\n",
    "            target.append(1)\n",
    "            \n",
    "    #futbol\n",
    "    futbol_files = os.listdir(os.path.join(DATA_DIR,'futbol'))\n",
    "    for futbol_file in futbol_files:\n",
    "        with open(os.path.join(DATA_DIR,'futbol',futbol_file), encoding=\"latin-1\") as f:\n",
    "            data.append(f.read())\n",
    "            target.append(2)\n",
    "         \n",
    "    #cricket\n",
    "    cricket_files = os.listdir(os.path.join(DATA_DIR,'cricket'))\n",
    "    for cricket_file in cricket_files:\n",
    "        with open(os.path.join(DATA_DIR,'cricket',cricket_file), encoding=\"latin-1\") as f:\n",
    "            data.append(f.read())\n",
    "            target.append(3)\n",
    "         \n",
    "    #basketball\n",
    "    basketball_files = os.listdir(os.path.join(DATA_DIR,'basketball'))\n",
    "    for basketball_file in basketball_files:\n",
    "        with open(os.path.join(DATA_DIR,'basketball',basketball_file), encoding=\"latin-1\") as f:\n",
    "            data.append(f.read())\n",
    "            target.append(4)\n",
    "      \n",
    "    return data, target\n"
   ]
  },
  {
   "cell_type": "code",
   "execution_count": 4,
   "metadata": {},
   "outputs": [],
   "source": [
    "#print (get_data(DATA_DIR)[1])"
   ]
  },
  {
   "cell_type": "code",
   "execution_count": 5,
   "metadata": {},
   "outputs": [],
   "source": [
    "#print (len(get_data(DATA_DIR)[1]))"
   ]
  },
  {
   "cell_type": "code",
   "execution_count": 6,
   "metadata": {},
   "outputs": [],
   "source": [
    "#print (get_data(DATA_DIR)[0])"
   ]
  },
  {
   "cell_type": "code",
   "execution_count": 7,
   "metadata": {},
   "outputs": [],
   "source": [
    "#print (len(get_data(DATA_DIR)[0]))"
   ]
  },
  {
   "cell_type": "code",
   "execution_count": 8,
   "metadata": {},
   "outputs": [],
   "source": [
    "class SportsDetector(object):\n",
    "    def clean(self, s):\n",
    "        translator = str.maketrans(\"\", \"\", string.punctuation)\n",
    "        return s.translate(translator)\n",
    "\n",
    "    def tokenize(self, text):\n",
    "        text = self.clean(text).lower()\n",
    "        return re.split(\"\\W+\", text)\n",
    "\n",
    "    def get_word_counts(self, words):\n",
    "        word_counts = {}\n",
    "        for word in words:\n",
    "            word_counts[word] = word_counts.get(word, 0.0) + 1.0\n",
    "        return word_counts\n",
    "    \n",
    "    def fit(self, X, Y):\n",
    "        \"\"\"Fit our classifier\n",
    "        Arguments:\n",
    "            X {list} -- list of document contents\n",
    "            y {list} -- correct labels\n",
    "        \"\"\"\n",
    "        self.num_news = {}\n",
    "        self.log_class_priors = {}\n",
    "        self.word_counts = {}\n",
    "        lst = ['drafted', 'fives', 'extra','replay', 'threegame', 'pump', 'cowboys', 'controlling', 'academy','pitches', 'heads', 'fours','hold', 'fiveteam', 'hit', 'wired','bonuspoint', 'even', 'depth', 'followed','airball', 'guided', 'overworked','converted', 'illegal', 'discussion', 'northwest', 'drill', 'lengths', 'attempted', 'chase', 'graduated', 'midfielder', 'averages', 'threeheaded', 'swinging','backandforth', 'slack', 'alert', 'avoid', 'frame','consolation', 'stakes', 'steps',  'forward',  'clutch', 'combination',  'delivery', 'lob', 'fold', 'preaching', 'serves', 'long', 'eastern', 'runner', 'spinner', 'detours', 'pulled', 'stumbles',  'stumps', 'northeast', 'coliseum', 'european', 'hall', 'lead', '90thminute', 'release', 'roma','ronaldo', '300run', 'holder','stepping','playcalling','lions', 'wicketkeeper', 'lambeau', 'groupstage', 'cricket', 'fourguard', 'yard', 'tripleheader', 'boards', 'mls', 'quarterback', 'counterattack', 'defended', 'colts','pakistan', 'incompletion', 'bench', 'association', 'grabs', '50run', 'atletico', 'out', 'screen', 'visiting', 'blocks','wicket', 'corner', 'opener', 'ravens','jagadeesan', 'misses',  'hundreds', 'tracks', 'finger', 'execution', 'stage', 'melbourne', 'pitch', 'folding', 'lionel', 'intercepted', 'partnerships', 'striking', 'caught','guards','switched', 'kicking', 'fumble','legspinner','tagteamed', 'platform', 'swung', 'airballs', 'interceptions', '76', 'cover', 'powerplay', 'wicketkeeperbatsman', '12man', 'catalan', 'overs','lineup','bottomofthetable', 'spin', 'split', 'doubledoubles', 'doubleteam', 'receivers', 'strikers', 'aggregate', '76er','passers', 'rosters', 'scoreline','noballs', 'europe', '27yard', 'shootout','hammered', 'csk', 'throwing', 'bats', 'kickoff', 'strokeplay', 'fielded', 'soccer', 'yards', 'australia', 'orleans','crossbatted', 'drops', 'bowlers', 'pairing', 'knockoutround', 'mavericks', 'bowling', 'bengals', 'sliding', 'unmarked', 'attempts', 'finishing', 'dived','diving', 'turnovers', 'bradley', 'wembley', 'linemen', 'fakes', 'saves', 'bigplay', 'deflected', 'england', 'posts', 'innings', 'baseline', 'looped', 'curry', 'lefthanders', 'complete', 'snaps', 'slammed', 'runs', 'goal', 'midfield', 'guard', 'equalizing', 'missing', 'dhoni', 'defenders', 'scorers','tennessee', 'singles', 'division', 'delivers', 'dotballs', 'gujarat', 'jaguars', 'basket', 'snapping', 'nba', 'brazil', 'jump', 'spells', 'firmino', 'tripledouble', 'manchester', 'pushing','fixtures', 'umpire', 'liverpool', 'finishes','wildcard', 'tenwicket', 'thirddown', 'reversed', 'skipper', 'juventus', 'broncos', 'opening','rebounds', 'pause','eagles', 't20', 'dunked','assisting', 'dunking', 'steelers', 'madrid', 'nfl', 'sixers', 'wickettaker', 'blazers', 'offspin', 'allrounder', 'linebacker', 'flags','cricketers', 'touchdown', 'wickets', 'clippers', '3pointers', 'patriots', 'volleyed', '100', 'over', 'jets', 'striker', 'warning', 'press', 'pressing','batsmens','basketball', 'openers', 'dismissals', 'fivewicket', 'blitzed', 'mourinho', 'afc', 'rockets', 'bayern', 'lebron', 'cornerback', 'neymar', 'umpires','concacaf', 'sixes', 'spur', 'cricketer', 'equalizer', 'tackles', 'gunners', 'rams', 'equalized', 'maiden', 'kicker', 'rebound', 'duck', 'longball', 'fielders','giants', 'fourwicket', 'interference', 'redskins', 'boundary', 'batters', 'quarter', '50over', 'goalkeeper', 'yellow', 'dive', 'vikings', 'shooters','doublefigures', 'steal', 'faking', 'bounce', 'spinners', 'century', 'triplefigure', 'crease', 'cavaliers', 'stepback', 'ipl', 'stopper', 'nbaleading','winger','chest', 'possessions', 'dunks', 'dugout', 'dismissal', 'touchline', 'titans', 'ashes', 'conferenceleading', 'ranji', 'fa', 'blitzes', 'nfc','handball', 'spell', 'bowled', 'fourthdown', 'chargers', 'marking', 'relegationthreatened', 'deflection', 'six', 'lefthander', 'fourpoint', 'catching','wingback','periods', 'tapping', 'keepers', 'playmaker', 'messi', 'corners', 'shooting', 'cricketing', 'arsenal', 'assists', 'yard', 'frontrunner',  'doublefigure', 'leftarmer', 'fourthquarter', 'holding', 'psg', 'halfcentury', 'fifa', 'nfcbest', 'relegated', 'runouts', 'toss', 'fifty', 'touchdowns', 'offguard', 'counter', 'offspinner', 'quarters', 'packers', 'gloves', 'serie', 'firstinnings', 'panthers', '100run', 'relegation', 'blues', 'attackingmidfield', 'maradona','centuries', 'sacramento','bat', 'batsmen', 'dugouts', 'mishit', 'volley', 'wickettaking', 'chiefs', 'placekicker', 'bills', 'fielding', 'partnership', 'stepped', 'twopoint', 'confederation', 'dotball', 'farpost', 'limitedovers', 'goals', 'seahawks', 'picking', 'delayed', 'timeout', 'conmebol', 'buccaneers', 'batting','offside', 'uefa', 'wicketless', 'bundesliga', 'throws', 'rebounding', 'europa', 'dolphins', 'penalty', 'catches', 'conceded', 'runners', 'lakers', 'knicks','fastbreak', 'fifthday', 'boundaries', 'saints', 'seamers', 'shot', 'cross', 'baskets']\n",
    "        #with open(os.path.join('Desktop/project','vocabulary.txt'), encoding=\"latin-1\") as f:\n",
    "            #lst.append(f.read())\n",
    "        self.vocab = set(lst)\n",
    "        #self.vocab = set()\n",
    "        \n",
    "\n",
    "        n = len(X)\n",
    "        self.num_news['soccer'] = sum(1 for label in Y if label == 1)\n",
    "        self.num_news['futbol'] = sum(1 for label in Y if label == 2)\n",
    "        self.num_news['cricket'] = sum(1 for label in Y if label == 3)\n",
    "        self.num_news['basketball'] = sum(1 for label in Y if label == 4)\n",
    "        \n",
    "        self.log_class_priors['soccer'] = math.log(self.num_news['soccer'] / n)\n",
    "        self.log_class_priors['futbol'] = math.log(self.num_news['futbol'] / n)\n",
    "        self.log_class_priors['cricket'] = math.log(self.num_news['cricket'] / n)\n",
    "        self.log_class_priors['basketball'] = math.log(self.num_news['basketball'] / n)\n",
    "        \n",
    "        self.word_counts['soccer'] = {}\n",
    "        self.word_counts['futbol'] = {}\n",
    "        self.word_counts['cricket'] = {}\n",
    "        self.word_counts['basketball'] = {}\n",
    "\n",
    "\n",
    "        for x, y in zip(X, Y):\n",
    "            c = 'soccer' if y == 1 else 'futbol' if y == 2 else 'cricket' if y ==3 else 'basketball'\n",
    "            counts = self.get_word_counts(self.tokenize(x))\n",
    "            for word, count in counts.items():\n",
    "                #if word not in self.vocab:\n",
    "                    #self.vocab.add(word)\n",
    "                if word not in self.word_counts[c]:\n",
    "                    self.word_counts[c][word] = 0.0\n",
    "\n",
    "                self.word_counts[c][word] += count\n",
    "                \n",
    "        #return self.word_counts['soccer'], self.word_counts['futbol'], self.word_counts['cricket'], self.word_counts['basketball']\n",
    "        #return self.vocab\n",
    "        #return self.word_counts['soccer']\n",
    "        #return self.word_counts['futbol']\n",
    "        #return self.word_counts['cricket']\n",
    "        #return self.word_counts['basketball']\n",
    "    \n",
    "    def predict(self, X):\n",
    "        result = []\n",
    "        for x in X:\n",
    "            counts = self.get_word_counts(self.tokenize(x))\n",
    "            #print (counts)\n",
    "            soccer_score = 0\n",
    "            futbol_score = 0\n",
    "            cricket_score = 0\n",
    "            basketball_score = 0\n",
    "            for word, _ in counts.items():\n",
    "                #print (word,_)\n",
    "                if word not in self.vocab:\n",
    "                    continue\n",
    "                \n",
    "                # add Laplace smoothing\n",
    "                log_w_given_soccer = math.log((self.word_counts['soccer'].get(word, 0.0) + 1) / (self.num_news['soccer'] + len(self.vocab)))\n",
    "                log_w_given_futbol = math.log((self.word_counts['futbol'].get(word, 0.0) + 1) / (self.num_news['futbol'] + len(self.vocab)))\n",
    "                log_w_given_cricket = math.log((self.word_counts['cricket'].get(word, 0.0) + 1) / (self.num_news['cricket'] + len(self.vocab)))\n",
    "                log_w_given_basketball = math.log((self.word_counts['basketball'].get(word, 0.0) + 1) / (self.num_news['basketball'] + len(self.vocab)))\n",
    "\n",
    "\n",
    "                soccer_score += log_w_given_soccer\n",
    "                futbol_score += log_w_given_futbol\n",
    "                cricket_score += log_w_given_cricket\n",
    "                basketball_score += log_w_given_basketball\n",
    "\n",
    "            soccer_score += self.log_class_priors['soccer']\n",
    "            futbol_score += self.log_class_priors['futbol']\n",
    "            cricket_score += self.log_class_priors['cricket']\n",
    "            basketball_score += self.log_class_priors['basketball']\n",
    "            #print (soccer_score)\n",
    "\n",
    "            if soccer_score > futbol_score and soccer_score > cricket_score and soccer_score > basketball_score:\n",
    "                result.append(1)\n",
    "            elif futbol_score > soccer_score and futbol_score > cricket_score and futbol_score > basketball_score:\n",
    "                result.append(2)\n",
    "            elif cricket_score > soccer_score and cricket_score > futbol_score and cricket_score > basketball_score:\n",
    "                result.append(3)\n",
    "            else:\n",
    "                result.append(4)\n",
    "        return result\n"
   ]
  },
  {
   "cell_type": "code",
   "execution_count": 9,
   "metadata": {},
   "outputs": [],
   "source": [
    "#obj = SportsDetector()\n",
    "#print (obj.fit(get_data(DATA_DIR)[0],get_data(DATA_DIR)[1]))"
   ]
  },
  {
   "cell_type": "code",
   "execution_count": 10,
   "metadata": {},
   "outputs": [],
   "source": [
    "def get_test_data_soccer(TEST_DATA_DIR):\n",
    "    subfolders = ['soccer','futbol','cricket','basketball']\n",
    "\n",
    "    t_data = []\n",
    "    t_target = []\n",
    "    \n",
    "    #soccer\n",
    "    soccer_files = os.listdir(os.path.join(TEST_DATA_DIR,'soccer'))\n",
    "    for soccer_file in soccer_files:\n",
    "        with open(os.path.join(TEST_DATA_DIR,'soccer',soccer_file), encoding=\"latin-1\") as f:\n",
    "            t_data.append(f.read())\n",
    "            t_target.append(1)\n",
    "      \n",
    "    return t_data, t_target\n"
   ]
  },
  {
   "cell_type": "code",
   "execution_count": 11,
   "metadata": {},
   "outputs": [],
   "source": [
    "def get_test_data_futbol(TEST_DATA_DIR):\n",
    "    subfolders = ['soccer','futbol','cricket','basketball']\n",
    "\n",
    "    t_data = []\n",
    "    t_target = []\n",
    "            \n",
    "    #futbol\n",
    "    futbol_files = os.listdir(os.path.join(TEST_DATA_DIR,'futbol'))\n",
    "    for futbol_file in futbol_files:\n",
    "        with open(os.path.join(TEST_DATA_DIR,'futbol',futbol_file), encoding=\"latin-1\") as f:\n",
    "            t_data.append(f.read())\n",
    "            t_target.append(2)\n",
    "    \n",
    "    t_data.pop(2)\n",
    "    t_target.pop(2)\n",
    "    return t_data, t_target\n"
   ]
  },
  {
   "cell_type": "code",
   "execution_count": 12,
   "metadata": {},
   "outputs": [],
   "source": [
    "def get_test_data_cricket(TEST_DATA_DIR):\n",
    "    subfolders = ['soccer','futbol','cricket','basketball']\n",
    "\n",
    "    t_data = []\n",
    "    t_target = []\n",
    "       \n",
    "    #cricket\n",
    "    cricket_files = os.listdir(os.path.join(TEST_DATA_DIR,'cricket'))\n",
    "    for cricket_file in cricket_files:\n",
    "        with open(os.path.join(TEST_DATA_DIR,'cricket',cricket_file), encoding=\"latin-1\") as f:\n",
    "            t_data.append(f.read())\n",
    "            t_target.append(3)\n",
    "      \n",
    "    t_data.pop(2)\n",
    "    t_target.pop(2)\n",
    "    return t_data, t_target\n"
   ]
  },
  {
   "cell_type": "code",
   "execution_count": 13,
   "metadata": {},
   "outputs": [],
   "source": [
    "def get_test_data_basketball(TEST_DATA_DIR):\n",
    "    subfolders = ['soccer','futbol','cricket','basketball']\n",
    "\n",
    "    t_data = []\n",
    "    t_target = []\n",
    "    \n",
    "    #basketball\n",
    "    basketball_files = os.listdir(os.path.join(TEST_DATA_DIR,'basketball'))\n",
    "    for basketball_file in basketball_files:\n",
    "        with open(os.path.join(TEST_DATA_DIR,'basketball',basketball_file), encoding=\"latin-1\") as f:\n",
    "            t_data.append(f.read())\n",
    "            t_target.append(4)\n",
    "            \n",
    "    \n",
    "    t_data.pop(0)\n",
    "    t_target.pop(0)\n",
    "    return t_data, t_target\n"
   ]
  },
  {
   "cell_type": "code",
   "execution_count": 14,
   "metadata": {},
   "outputs": [
    {
     "name": "stdout",
     "output_type": "stream",
     "text": [
      "Futbol\n",
      "1.0000\n",
      "Cricket\n",
      "1.0000\n",
      "Soccer\n",
      "0.9000\n",
      "Basketball\n",
      "1.0000\n"
     ]
    }
   ],
   "source": [
    "if __name__ == '__main__':\n",
    "    X, y = get_data(DATA_DIR)\n",
    "    MNB = SportsDetector()\n",
    "    MNB.fit(X, y)\n",
    "\n",
    "    pred_futbol = MNB.predict(get_test_data_futbol(TEST_DATA_DIR)[0])\n",
    "    true_futbol = get_test_data_futbol(TEST_DATA_DIR)[1]\n",
    "\n",
    "    accuracy_futbol = sum(1 for i in range(len(pred_futbol)) if pred_futbol[i] == true_futbol[i]) / float(len(pred_futbol))\n",
    "    print (\"Futbol\")\n",
    "    print(\"{0:.4f}\".format(accuracy_futbol))\n",
    "    \n",
    "    \n",
    "    pred_cricket = MNB.predict(get_test_data_cricket(TEST_DATA_DIR)[0])\n",
    "    true_cricket = get_test_data_cricket(TEST_DATA_DIR)[1]\n",
    "\n",
    "    accuracy_cricket = sum(1 for i in range(len(pred_cricket)) if pred_cricket[i] == true_cricket[i]) / float(len(pred_cricket))\n",
    "    print (\"Cricket\")\n",
    "    print(\"{0:.4f}\".format(accuracy_cricket))\n",
    "    \n",
    "    \n",
    "    pred_soccer = MNB.predict(get_test_data_soccer(TEST_DATA_DIR)[0])\n",
    "    true_soccer = get_test_data_soccer(TEST_DATA_DIR)[1]\n",
    "\n",
    "    accuracy_soccer = sum(1 for i in range(len(pred_soccer)) if pred_soccer[i] == true_soccer[i]) / float(len(pred_soccer))\n",
    "    print (\"Soccer\")\n",
    "    print(\"{0:.4f}\".format(accuracy_soccer))\n",
    "    \n",
    "    pred_basketball = MNB.predict(get_test_data_basketball(TEST_DATA_DIR)[0])\n",
    "    true_basketball = get_test_data_basketball(TEST_DATA_DIR)[1]\n",
    "\n",
    "    accuracy_basketball = sum(1 for i in range(len(pred_basketball)) if pred_basketball[i] == true_basketball[i]) / float(len(pred_basketball))\n",
    "    print (\"Basketball\")\n",
    "    print(\"{0:.4f}\".format(accuracy_basketball))\n",
    "    #print (MNB.vocab)\n",
    "    #print (len(MNB.vocab))\n",
    "    "
   ]
  },
  {
   "cell_type": "code",
   "execution_count": 15,
   "metadata": {},
   "outputs": [],
   "source": [
    "#print (len(get_test_data_cricket(TEST_DATA_DIR)))"
   ]
  },
  {
   "cell_type": "code",
   "execution_count": 16,
   "metadata": {},
   "outputs": [],
   "source": [
    "#print (get_test_data_cricket(TEST_DATA_DIR)[1])"
   ]
  },
  {
   "cell_type": "code",
   "execution_count": 17,
   "metadata": {},
   "outputs": [],
   "source": [
    "#print (get_test_data_cricket(TEST_DATA_DIR)[0][2])"
   ]
  }
 ],
 "metadata": {
  "kernelspec": {
   "display_name": "Python 3",
   "language": "python",
   "name": "python3"
  },
  "language_info": {
   "codemirror_mode": {
    "name": "ipython",
    "version": 3
   },
   "file_extension": ".py",
   "mimetype": "text/x-python",
   "name": "python",
   "nbconvert_exporter": "python",
   "pygments_lexer": "ipython3",
   "version": "3.6.6"
  }
 },
 "nbformat": 4,
 "nbformat_minor": 2
}
